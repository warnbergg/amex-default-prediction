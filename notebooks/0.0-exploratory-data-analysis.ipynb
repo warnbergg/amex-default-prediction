{
 "cells": [
  {
   "cell_type": "code",
   "execution_count": 1,
   "id": "30b84ff0-2eb7-4a71-9706-2f37424b5a8c",
   "metadata": {},
   "outputs": [],
   "source": [
    "%load_ext autoreload\n",
    "%autoreload 2"
   ]
  },
  {
   "cell_type": "code",
   "execution_count": 2,
   "id": "0a94584e-8544-473c-95eb-4484ba700e76",
   "metadata": {},
   "outputs": [],
   "source": [
    "import os\n",
    "os.chdir(\"..\")"
   ]
  },
  {
   "cell_type": "code",
   "execution_count": 3,
   "id": "f16fd725-a01f-4f3c-a763-2ea273f80a7e",
   "metadata": {},
   "outputs": [],
   "source": [
    "import pandas as pd\n",
    "\n",
    "from src.data.utils import get_categorical_variables, get_numerical_variables, transform_customer_id"
   ]
  },
  {
   "cell_type": "code",
   "execution_count": 11,
   "id": "8dca0018-6645-4318-a639-cdcbd359f5cc",
   "metadata": {},
   "outputs": [],
   "source": [
    "train = pd.read_feather(\"data/interim/train.feather\")\n",
    "train_labels = pd.read_csv(\"data/raw/\" + \"train_labels.csv\")"
   ]
  },
  {
   "cell_type": "code",
   "execution_count": 8,
   "id": "b940172f-7471-4faf-bd2e-dfe765833584",
   "metadata": {},
   "outputs": [],
   "source": [
    "train_labels = train_labels.assign(customer_ID = train_labels[\"customer_ID\"].apply(transform_customer_id).astype(\"int64\"))"
   ]
  },
  {
   "cell_type": "markdown",
   "id": "893357c1-533c-4efc-bb9f-c74a77719a11",
   "metadata": {},
   "source": [
    "### Features"
   ]
  },
  {
   "cell_type": "markdown",
   "id": "ac233674-b7f0-4129-afe5-fbdfa3d4decb",
   "metadata": {},
   "source": [
    "Variables:\n",
    "- D_* = Delinquency variables\n",
    "- S_* = Spend variables\n",
    "- P_* = Payment variables\n",
    "- B_* = Balance variables\n",
    "- R_* = Risk variables"
   ]
  },
  {
   "cell_type": "markdown",
   "id": "077bc7f5-e358-477f-b2ce-62cd9fac5ff2",
   "metadata": {},
   "source": [
    "#### Delinquency"
   ]
  },
  {
   "cell_type": "code",
   "execution_count": 7,
   "id": "997e9fbe-6cbc-4437-97cc-417c938c8c6f",
   "metadata": {},
   "outputs": [],
   "source": [
    "delinquency = train.loc[:, train.columns.str.contains(\"D\")]"
   ]
  },
  {
   "cell_type": "code",
   "execution_count": 8,
   "id": "0c056458-3b71-4831-a04f-0adf203bfa04",
   "metadata": {},
   "outputs": [
    {
     "data": {
      "text/plain": [
       "customer_ID     0.000000\n",
       "D_39            0.000000\n",
       "D_41            0.036446\n",
       "D_42           85.694278\n",
       "D_43           29.981211\n",
       "                 ...    \n",
       "D_141           1.835829\n",
       "D_142          82.926577\n",
       "D_143           1.835829\n",
       "D_144           0.736281\n",
       "D_145           1.835829\n",
       "Length: 97, dtype: float64"
      ]
     },
     "execution_count": 8,
     "metadata": {},
     "output_type": "execute_result"
    }
   ],
   "source": [
    "delinquency.isna().sum() / len(delinquency.index) * 100"
   ]
  },
  {
   "cell_type": "markdown",
   "id": "b117a646-4e8b-426d-9a03-5c4f5d6a2f62",
   "metadata": {},
   "source": [
    "#### Spend"
   ]
  },
  {
   "cell_type": "code",
   "execution_count": 9,
   "id": "aaca957e-5af9-4cac-b389-59930680855e",
   "metadata": {},
   "outputs": [],
   "source": [
    "spend = train.loc[:, train.columns.str.contains(\"S\")]"
   ]
  },
  {
   "cell_type": "code",
   "execution_count": 10,
   "id": "64708894-b3cf-4e0e-830f-551fa7bfb0ef",
   "metadata": {},
   "outputs": [
    {
     "data": {
      "text/plain": [
       "S_2      0.000000\n",
       "S_3     18.449843\n",
       "S_5      0.000000\n",
       "S_6      0.000000\n",
       "S_7     18.449843\n",
       "S_8      0.000000\n",
       "S_9     53.035686\n",
       "S_11     0.000000\n",
       "S_12     0.000000\n",
       "S_13     0.000000\n",
       "S_15     0.000000\n",
       "S_16     0.000000\n",
       "S_17     0.000000\n",
       "S_18     0.000000\n",
       "S_19     0.000000\n",
       "S_20     0.000000\n",
       "S_22     0.343924\n",
       "S_23     0.008045\n",
       "S_24     0.336132\n",
       "S_25     0.232254\n",
       "S_26     0.011462\n",
       "S_27    25.326718\n",
       "dtype: float64"
      ]
     },
     "execution_count": 10,
     "metadata": {},
     "output_type": "execute_result"
    }
   ],
   "source": [
    "spend.isna().sum() / len(spend.index) * 100"
   ]
  },
  {
   "cell_type": "markdown",
   "id": "3d0ac014-4cd0-4306-a7a4-d1b64d124c71",
   "metadata": {},
   "source": [
    "#### Payment"
   ]
  },
  {
   "cell_type": "code",
   "execution_count": 11,
   "id": "1d2d42e9-cb25-4f25-ade0-71e2349a1273",
   "metadata": {},
   "outputs": [],
   "source": [
    "payment = train.loc[:, train.columns.str.contains(\"P\")]"
   ]
  },
  {
   "cell_type": "code",
   "execution_count": 12,
   "id": "de86ff30-8cc6-4ddd-ac9c-7815ef097ff0",
   "metadata": {},
   "outputs": [
    {
     "data": {
      "text/plain": [
       "P_2    0.831337\n",
       "P_3    5.450505\n",
       "P_4    0.000000\n",
       "dtype: float64"
      ]
     },
     "execution_count": 12,
     "metadata": {},
     "output_type": "execute_result"
    }
   ],
   "source": [
    "payment.isna().sum() / len(payment.index) * 100"
   ]
  },
  {
   "cell_type": "markdown",
   "id": "4105c886-0d2f-4646-9641-829add27f3f1",
   "metadata": {},
   "source": [
    "#### Balance"
   ]
  },
  {
   "cell_type": "code",
   "execution_count": 13,
   "id": "f13ea7b9-5de8-4890-af3c-940c70ed0fed",
   "metadata": {},
   "outputs": [],
   "source": [
    "balance = train.loc[:, train.columns.str.contains(\"B\")]"
   ]
  },
  {
   "cell_type": "code",
   "execution_count": 14,
   "id": "a6b2fe86-6fca-49dd-87cd-1fb187a18233",
   "metadata": {},
   "outputs": [
    {
     "data": {
      "text/plain": [
       "B_1      0.000000\n",
       "B_2      0.036446\n",
       "B_3      0.036446\n",
       "B_4      0.000000\n",
       "B_5      0.000000\n",
       "B_6      0.004212\n",
       "B_7      0.000000\n",
       "B_8      0.402571\n",
       "B_9      0.000000\n",
       "B_10     0.000000\n",
       "B_11     0.000000\n",
       "B_12     0.000000\n",
       "B_13     0.895226\n",
       "B_14     0.000000\n",
       "B_15     0.125157\n",
       "B_16     0.036446\n",
       "B_17    56.722874\n",
       "B_18     0.000000\n",
       "B_19     0.036446\n",
       "B_20     0.036446\n",
       "B_21     0.000000\n",
       "B_22     0.036446\n",
       "B_23     0.000000\n",
       "B_24     0.000000\n",
       "B_25     0.125157\n",
       "B_26     0.036446\n",
       "B_27     0.036446\n",
       "B_28     0.000000\n",
       "B_29    93.104594\n",
       "B_30     0.036446\n",
       "B_31     0.000000\n",
       "B_32     0.000000\n",
       "B_33     0.036446\n",
       "B_36     0.000000\n",
       "B_37     0.001012\n",
       "B_38     0.036446\n",
       "B_39    99.391986\n",
       "B_40     0.000958\n",
       "B_41     0.012474\n",
       "B_42    98.707789\n",
       "dtype: float64"
      ]
     },
     "execution_count": 14,
     "metadata": {},
     "output_type": "execute_result"
    }
   ],
   "source": [
    "balance.isna().sum() / len(balance.index) * 100"
   ]
  },
  {
   "cell_type": "markdown",
   "id": "5b85cbcc-423e-45c2-90f8-f1bb4a51bd32",
   "metadata": {},
   "source": [
    "#### Risk"
   ]
  },
  {
   "cell_type": "code",
   "execution_count": 15,
   "id": "def7d551-c593-4eb8-aa56-af65591933d2",
   "metadata": {},
   "outputs": [],
   "source": [
    "risk = train.loc[:, train.columns.str.contains(\"R\")]"
   ]
  },
  {
   "cell_type": "code",
   "execution_count": 16,
   "id": "d01e8b09-fde2-4140-9877-201f966b6409",
   "metadata": {},
   "outputs": [
    {
     "data": {
      "text/plain": [
       "R_1      0.000000\n",
       "R_2      0.000000\n",
       "R_3      0.000000\n",
       "R_4      0.000000\n",
       "R_5      0.000000\n",
       "R_6      0.000000\n",
       "R_7      0.000018\n",
       "R_8      0.000000\n",
       "R_9     94.349891\n",
       "R_10     0.000000\n",
       "R_11     0.000000\n",
       "R_12     0.001012\n",
       "R_13     0.000000\n",
       "R_14     0.000018\n",
       "R_15     0.000000\n",
       "R_16     0.000000\n",
       "R_17     0.000000\n",
       "R_18     0.000000\n",
       "R_19     0.000000\n",
       "R_20     0.001356\n",
       "R_21     0.000000\n",
       "R_22     0.000000\n",
       "R_23     0.000000\n",
       "R_24     0.000000\n",
       "R_25     0.000000\n",
       "R_26    88.984717\n",
       "R_27     2.326749\n",
       "R_28     0.000000\n",
       "dtype: float64"
      ]
     },
     "execution_count": 16,
     "metadata": {},
     "output_type": "execute_result"
    }
   ],
   "source": [
    "risk.isna().sum() / len(risk.index) * 100"
   ]
  },
  {
   "cell_type": "markdown",
   "id": "777c499a-25a8-4ae2-ace8-e23f41f21690",
   "metadata": {},
   "source": [
    "### Labels"
   ]
  },
  {
   "cell_type": "code",
   "execution_count": 17,
   "id": "fb8c9f6f-003c-4a8c-8690-52fee49c9798",
   "metadata": {},
   "outputs": [
    {
     "data": {
      "text/plain": [
       "0    0.741066\n",
       "1    0.258934\n",
       "Name: target, dtype: float64"
      ]
     },
     "execution_count": 17,
     "metadata": {},
     "output_type": "execute_result"
    }
   ],
   "source": [
    "train_labels.target.value_counts(normalize=True)"
   ]
  }
 ],
 "metadata": {
  "kernelspec": {
   "display_name": "Python 3 (ipykernel)",
   "language": "python",
   "name": "python3"
  },
  "language_info": {
   "codemirror_mode": {
    "name": "ipython",
    "version": 3
   },
   "file_extension": ".py",
   "mimetype": "text/x-python",
   "name": "python",
   "nbconvert_exporter": "python",
   "pygments_lexer": "ipython3",
   "version": "3.8.13"
  }
 },
 "nbformat": 4,
 "nbformat_minor": 5
}
